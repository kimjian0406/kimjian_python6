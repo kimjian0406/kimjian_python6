{
  "nbformat": 4,
  "nbformat_minor": 0,
  "metadata": {
    "colab": {
      "provenance": [],
      "authorship_tag": "ABX9TyNyJPPllf8uu04I3G2kafE/",
      "include_colab_link": true
    },
    "kernelspec": {
      "name": "python3",
      "display_name": "Python 3"
    },
    "language_info": {
      "name": "python"
    }
  },
  "cells": [
    {
      "cell_type": "markdown",
      "metadata": {
        "id": "view-in-github",
        "colab_type": "text"
      },
      "source": [
        "<a href=\"https://colab.research.google.com/github/kimjian0406/kimjian_python6/blob/main/python14_01.ipynb\" target=\"_parent\"><img src=\"https://colab.research.google.com/assets/colab-badge.svg\" alt=\"Open In Colab\"/></a>"
      ]
    },
    {
      "cell_type": "markdown",
      "source": [
        "<span style=\"font-size:100%\">\n",
        "\n",
        "수업은 모두 열심히 들으셨나요?\n",
        "\n",
        "간혹 강의에서 언급되지 않은 내용이 문제로 나올 수 있습니다.<br>\n",
        "그럴땐 강의 내용 외 문제는 구글링을 통해 해결해주세요<br></span>\n",
        "<span style=\"font-size:80%\">\n",
        "(구글링 또한 개발자가 갖쳐야할 역량 중에 하나랍니다 😊)\n",
        "</span>\n",
        "\n",
        "---"
      ],
      "metadata": {
        "id": "fX8lhWDVmaE8"
      }
    },
    {
      "cell_type": "markdown",
      "source": [
        "<span style=\"font-size:80%\">[문제1]<br><br></span>\n",
        "```다음 중 True로 취급되지 않는 것을 골라주세요```\n",
        "\n",
        "1. 1\n",
        "2. \"수강생\"\n",
        "3. None\n",
        "4. [\"양파\", \"옥수수\", \"배추\"]"
      ],
      "metadata": {
        "id": "trauzua-mcyd"
      }
    },
    {
      "cell_type": "markdown",
      "source": [
        "답변 : 3번 None"
      ],
      "metadata": {
        "id": "-MrJeoHWmfAx"
      }
    },
    {
      "cell_type": "markdown",
      "source": [
        "<span style=\"font-size:80%\">[문제2]<br><br></span>\n",
        "```아래 코드의 출력 결과를 입력해주세요```\n",
        "\n",
        "```if not ' ':```<br>\n",
        "&nbsp;```  print(True)```<br>\n",
        "\n",
        "```else:```<br>\n",
        "&nbsp;```  print(False)```<br>"
      ],
      "metadata": {
        "id": "WzkRPzIKmosh"
      }
    },
    {
      "cell_type": "markdown",
      "source": [
        "문제가 이상합니다"
      ],
      "metadata": {
        "id": "IONuRRjGmtJP"
      }
    },
    {
      "cell_type": "markdown",
      "source": [
        "<span style=\"font-size:80%\">[문제3]<br><br></span>\n",
        "```if 조건문에 대한 설명으로 올바른 것을 골라주세요```\n",
        "\n",
        "1. if문은 조건을 만족하지 않을때 실행된다.\n",
        "2. else문은 조건문이 참일 때 실행된다.\n",
        "3. else는 단독으로 사용할 수 없다.\n",
        "4. else에서 실행되는 코드는 다음 줄에서 들여쓰기를 하지 않아야 한다.\n",
        "5. if는 항상 else가 있어여 한다."
      ],
      "metadata": {
        "id": "MhKNLtPWmw3G"
      }
    },
    {
      "cell_type": "markdown",
      "source": [
        "답변 2번"
      ],
      "metadata": {
        "id": "iXOcnx0hmyli"
      }
    },
    {
      "cell_type": "markdown",
      "source": [
        "<span style=\"font-size:80%\">[문제4]<br><br></span>\n",
        "```아래 코드의 출력으로 올바른 것을 골라주세요```\n",
        "\n",
        "```x = 5```\n",
        "\n",
        "```if x % 2 ==0:```<br>\n",
        "&nbsp;&nbsp;```print(\"짝수\")```\n",
        "\n",
        "```else:```<br>\n",
        "&nbsp;&nbsp;```print(\"홀수\")```<br>\n",
        "\n",
        "\n",
        "1. 짝수\n",
        "2. 1\n",
        "3. 2\n",
        "4. 홀수\n",
        "5. 아무것도 출력되지 않는다."
      ],
      "metadata": {
        "id": "wiP2trqPm0_f"
      }
    },
    {
      "cell_type": "markdown",
      "source": [
        "답변 4번"
      ],
      "metadata": {
        "id": "X6euQUK6m3d7"
      }
    },
    {
      "cell_type": "markdown",
      "source": [
        "<span style=\"font-size:80%\">[문제5]<br><br></span>\n",
        "```아래의 if 조건과 동일한 조건을 찾아주세요```\n",
        "\n",
        "```if 15 >= x and x > 3```\n",
        "\n",
        "1. x < 3 < 15\n",
        "2. 3 <= x < 15\n",
        "3. 3 <= x <= 15\n",
        "4. 15 >= x\n",
        "5. 3 < x <= 15"
      ],
      "metadata": {
        "id": "pUEyVasQm5hE"
      }
    },
    {
      "cell_type": "markdown",
      "source": [
        "답변 5번"
      ],
      "metadata": {
        "id": "y4XIDid-m7M2"
      }
    }
  ]
}