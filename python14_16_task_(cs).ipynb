{
  "nbformat": 4,
  "nbformat_minor": 0,
  "metadata": {
    "colab": {
      "provenance": [],
      "authorship_tag": "ABX9TyOmf/2LC7G4pJU/u2TL8q78"
    },
    "kernelspec": {
      "name": "python3",
      "display_name": "Python 3"
    },
    "language_info": {
      "name": "python"
    }
  },
  "cells": [
    {
      "cell_type": "markdown",
      "source": [
        "안녕하세요. 수강생 여러분~! Chapter14 ~ 16 수업은 잘 들으셨나요?\n",
        "\n",
        "Chapter14 ~ 16의 수업 내용을 바탕으로 아래 문제를 풀어주시면 됩니다.\n",
        "\n",
        "<br>\n",
        "\n",
        "\n",
        "[**답변 입력 방법**]\n",
        "\n",
        "문제 아래에 있는 코드 입력창에 정답코드를 작성하신 후  __▷ 버튼을 클릭해 코드를 실행__ 해보세요<br>"
      ],
      "metadata": {
        "id": "bh2ArucV_H2u"
      }
    },
    {
      "cell_type": "markdown",
      "source": [
        "__[문제1]__\n",
        "\n",
        "주어진 정수 x와 자연수 n을 이용해, x부터 시작해 x씩 증가하는 숫자를 n개 지니는 리스트를 출력해주세요   \n",
        "<br>\n",
        "\n",
        "x = 2, n =5"
      ],
      "metadata": {
        "id": "adwLZ9Qu_UYX"
      }
    },
    {
      "cell_type": "code",
      "source": [
        "def generate_sequence(x, n):\n",
        "    return [x * i for i in range(1, n + 1)]\n",
        "\n",
        "# 예제\n",
        "x = 2\n",
        "n = 5\n",
        "result = generate_sequence(x, n)\n",
        "print(result)\n"
      ],
      "metadata": {
        "colab": {
          "base_uri": "https://localhost:8080/"
        },
        "id": "u7NX48E9_cuV",
        "outputId": "21d3ab20-a0b1-4065-a821-a6aee9c8a84d"
      },
      "execution_count": 1,
      "outputs": [
        {
          "output_type": "stream",
          "name": "stdout",
          "text": [
            "[2, 4, 6, 8, 10]\n"
          ]
        }
      ]
    },
    {
      "cell_type": "markdown",
      "source": [
        "__[문제2]__\n",
        "\n",
        "전화번호가 문자열 phone_number로 주어졌을 때, 전화번호의 뒷 4자리를 *으로 가린 문자열이 출력되도록 코드를 작성해주세요\n",
        "\n",
        "phone_number = \"01012347890\"  \n",
        "<br>\n",
        "\n",
        "출력 예) \"0101234****\""
      ],
      "metadata": {
        "id": "7qMXWNqB_qcA"
      }
    },
    {
      "cell_type": "code",
      "source": [
        "def mask_phone_number(phone_number):\n",
        "    # 뒷 4자리를 '*'로 교체\n",
        "    return phone_number[:-4] + \"****\"\n",
        "\n",
        "# 예제\n",
        "phone_number = \"01012347890\"\n",
        "result = mask_phone_number(phone_number)\n",
        "print(result)\n"
      ],
      "metadata": {
        "colab": {
          "base_uri": "https://localhost:8080/"
        },
        "id": "HuW4NQMF_sDA",
        "outputId": "26adc2a4-b68e-442e-cd47-f0ef2f479fd5"
      },
      "execution_count": 2,
      "outputs": [
        {
          "output_type": "stream",
          "name": "stdout",
          "text": [
            "0101234****\n"
          ]
        }
      ]
    },
    {
      "cell_type": "markdown",
      "source": [
        "__[문제3]__\n",
        "\n",
        "숫자를 건넬 때 일부 자릿수를 영단어로 바꾼 카드를 건네주면 프로도는 원래 숫자를 찾는 게임입니다.\n",
        "\n",
        "다음은 숫자의 일부 자릿수를 영단어로 바꾸는 예시입니다.\n",
        "\n",
        "1478 → \"one4seveneight\"  \n",
        "234567 → \"23four5six7\"  \n",
        "10203 → \"1zerotwozero3\"    \n",
        "\n",
        "이렇게 숫자의 일부 자릿수가 영단어로 바뀌어졌거나,   \n",
        "혹은 바뀌지 않고 그대로인 문자열 s가 주어졌을때\n",
        "s가 의미하는 원래 숫자를 출력하도록 코드를 작성해주세요\n",
        "\n",
        "s = \"77three4one\n",
        "\n",
        "---\n",
        "참고로 각 숫자에 대응되는 영단어는 다음 표와 같습니다.\n",
        "\n",
        "숫자\t영단어  \n",
        "0\tzero  \n",
        "1\tone  \n",
        "2\ttwo  \n",
        "3\tthree  \n",
        "4\tfour  \n",
        "5\tfive  \n",
        "6\tsix  \n",
        "7\tseven  \n",
        "8\teight  \n",
        "9\tnine  "
      ],
      "metadata": {
        "id": "WTdYE3Xf_wdq"
      }
    },
    {
      "cell_type": "code",
      "source": [
        "def convert_to_number(s):\n",
        "    # 숫자와 영단어 매핑\n",
        "    num_to_word = {\n",
        "        \"zero\": \"0\", \"one\": \"1\", \"two\": \"2\", \"three\": \"3\", \"four\": \"4\",\n",
        "        \"five\": \"5\", \"six\": \"6\", \"seven\": \"7\", \"eight\": \"8\", \"nine\": \"9\"\n",
        "    }\n",
        "\n",
        "    # 영단어를 숫자로 변환\n",
        "    for word, digit in num_to_word.items():\n",
        "        s = s.replace(word, digit)\n",
        "\n",
        "    return int(s)  # 문자열을 숫자로 변환 후 반환\n",
        "\n",
        "# 예제\n",
        "s = \"77three4one\"\n",
        "result = convert_to_number(s)\n",
        "print(result)\n"
      ],
      "metadata": {
        "colab": {
          "base_uri": "https://localhost:8080/"
        },
        "id": "0HNafeMx_xFc",
        "outputId": "1e14e72c-cd64-4507-d63c-d95a80cad22f"
      },
      "execution_count": 3,
      "outputs": [
        {
          "output_type": "stream",
          "name": "stdout",
          "text": [
            "77341\n"
          ]
        }
      ]
    },
    {
      "cell_type": "markdown",
      "source": [
        "__[문제4]__\n",
        "\n",
        "행렬의 덧셈은 행과 열의 크기가 같은 두 행렬의 같은 행, 같은 열의 값을 서로 더한 결과가 됩니다.\n",
        "\n",
        " 행렬 arr1과 arr2가 주어졌을 때, 행렬 덧셈의 결과를 출력하는 코드를 작성해주세요(result와 같은 결과가 출력되도록 작성)\n",
        "\n",
        "arr1 = [[1,2],[2,3]]\n",
        "\n",
        "arr2 = [[3,4],[5,6]]\n",
        "\n",
        "result = [[4,6],[7,9]]"
      ],
      "metadata": {
        "id": "G_DK6cvtARJP"
      }
    },
    {
      "cell_type": "code",
      "source": [
        "def add_matrices(arr1, arr2):\n",
        "    # 행렬의 같은 위치에 있는 요소를 더함\n",
        "    result = [[arr1[i][j] + arr2[i][j] for j in range(len(arr1[0]))] for i in range(len(arr1))]\n",
        "    return result\n",
        "\n",
        "# 예제\n",
        "arr1 = [[1, 2], [2, 3]]\n",
        "arr2 = [[3, 4], [5, 6]]\n",
        "\n",
        "result = add_matrices(arr1, arr2)\n",
        "print(result)\n"
      ],
      "metadata": {
        "colab": {
          "base_uri": "https://localhost:8080/"
        },
        "id": "KudTzmzVAR6I",
        "outputId": "7dd9c26a-589c-48b9-c279-086739136d63"
      },
      "execution_count": 4,
      "outputs": [
        {
          "output_type": "stream",
          "name": "stdout",
          "text": [
            "[[4, 6], [7, 9]]\n"
          ]
        }
      ]
    },
    {
      "cell_type": "markdown",
      "source": [
        "__[문제5]__\n",
        "\n",
        "양의 정수 x가 하샤드 수이려면 x의 자릿수의 합으로 x가 나누어져야 합니다.   \n",
        "예를 들어 18의 자릿수 합은 1+8=9이고, 18은 9로 나누어 떨어지므로 18은 하샤드 수입니다.   \n",
        "주어진 x를 이용해 x가 하샤드 수인지 아닌지 검사하는 코드를 작성해주세요\n",
        "\n",
        "x = 17\n",
        "\n",
        "----\n",
        "\n",
        "입출력 예시\n",
        "x\t결과값  \n",
        "10\ttrue  \n",
        "12\ttrue  \n",
        "11\tfalse  \n",
        "13\tfalse  "
      ],
      "metadata": {
        "id": "KiqkCyeEAZob"
      }
    },
    {
      "cell_type": "code",
      "source": [
        "def is_harshad_number(x):\n",
        "    # 자릿수의 합 계산\n",
        "    digit_sum = sum(int(digit) for digit in str(x))\n",
        "    # x가 자릿수 합으로 나누어 떨어지는지 검사\n",
        "    return x % digit_sum == 0\n",
        "\n",
        "# 예제\n",
        "x = 17\n",
        "result = is_harshad_number(x)\n",
        "print(result)  # False\n"
      ],
      "metadata": {
        "colab": {
          "base_uri": "https://localhost:8080/"
        },
        "id": "6fOyJlCUAcWv",
        "outputId": "2b543abb-f856-46a0-c2cd-6233a1381c8a"
      },
      "execution_count": 5,
      "outputs": [
        {
          "output_type": "stream",
          "name": "stdout",
          "text": [
            "False\n"
          ]
        }
      ]
    },
    {
      "cell_type": "markdown",
      "source": [],
      "metadata": {
        "id": "OByYduR9Am4g"
      }
    },
    {
      "cell_type": "markdown",
      "source": [
        "__[문제6]__\n",
        "\n",
        "String형 배열 seoul의 element중 \"Kim\"의 인덱스 x를 찾아, \"김서방은 x에 있다\"는 String을 출력하는 코드를 작성해주세요.   \n",
        "\n",
        "seoul에 \"Kim\"은 오직 한 번만 나타나며 잘못된 값이 입력되는 경우는 없습니다.\n",
        "\n",
        "seoul = [\"Jane\", \"Kim\"]\n",
        "\n",
        "<br>\n",
        "출력 예) \"김서방은 1에 있다\""
      ],
      "metadata": {
        "id": "xyrMtZE5Am5t"
      }
    },
    {
      "cell_type": "code",
      "source": [
        "def find_kim(seoul):\n",
        "    # \"Kim\"의 인덱스를 찾기\n",
        "    index = seoul.index(\"Kim\")\n",
        "    # 결과 문자열 생성\n",
        "    return f\"김서방은 {index}에 있다\"\n",
        "\n",
        "# 예제\n",
        "seoul = [\"Jane\", \"Kim\"]\n",
        "result = find_kim(seoul)\n",
        "print(result)\n"
      ],
      "metadata": {
        "colab": {
          "base_uri": "https://localhost:8080/"
        },
        "id": "hq0Mq2ijAo7L",
        "outputId": "33736fae-42ca-4396-cfce-7f3dce4a91b3"
      },
      "execution_count": 6,
      "outputs": [
        {
          "output_type": "stream",
          "name": "stdout",
          "text": [
            "김서방은 1에 있다\n"
          ]
        }
      ]
    },
    {
      "cell_type": "markdown",
      "source": [
        "__[문제7]__\n",
        "\n",
        "0부터 9까지의 숫자 중 일부가 들어있는 정수 배열 numbers가 주어집니다.   \n",
        "numbers에서 찾을 수 없는 0부터 9까지의 숫자를 모두 찾아 더한 수를 출력해주세요\n",
        "\n",
        "numbers = [5,8,1,0,6,9]"
      ],
      "metadata": {
        "id": "2Kros2A3AwUO"
      }
    },
    {
      "cell_type": "code",
      "source": [
        "def find_missing_sum(numbers):\n",
        "    # 0부터 9까지의 모든 숫자 집합\n",
        "    all_numbers = set(range(10))\n",
        "    # numbers를 집합으로 변환 후 차집합 계산\n",
        "    missing_numbers = all_numbers - set(numbers)\n",
        "    # 없는 숫자들의 합 계산\n",
        "    return sum(missing_numbers)\n",
        "\n",
        "# 예제\n",
        "numbers = [5, 8, 1, 0, 6, 9]\n",
        "result = find_missing_sum(numbers)\n",
        "print(result)\n"
      ],
      "metadata": {
        "colab": {
          "base_uri": "https://localhost:8080/"
        },
        "id": "x7vZ0Ba8A5XR",
        "outputId": "efddf98f-e601-4a07-f9d0-999ab6ad3982"
      },
      "execution_count": 7,
      "outputs": [
        {
          "output_type": "stream",
          "name": "stdout",
          "text": [
            "16\n"
          ]
        }
      ]
    }
  ]
}